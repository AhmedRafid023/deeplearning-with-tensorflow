{
  "nbformat": 4,
  "nbformat_minor": 0,
  "metadata": {
    "colab": {
      "provenance": [],
      "authorship_tag": "ABX9TyOOXvaUI3j6IiVv6mFxRsl7",
      "include_colab_link": true
    },
    "kernelspec": {
      "name": "python3",
      "display_name": "Python 3"
    },
    "language_info": {
      "name": "python"
    }
  },
  "cells": [
    {
      "cell_type": "markdown",
      "metadata": {
        "id": "view-in-github",
        "colab_type": "text"
      },
      "source": [
        "<a href=\"https://colab.research.google.com/github/AhmedRafid023/deeplearning-with-tensorflow/blob/main/TensorFlow.ipynb\" target=\"_parent\"><img src=\"https://colab.research.google.com/assets/colab-badge.svg\" alt=\"Open In Colab\"/></a>"
      ]
    },
    {
      "cell_type": "code",
      "execution_count": 1,
      "metadata": {
        "id": "nduiNlKncKoz"
      },
      "outputs": [],
      "source": [
        "import tensorflow as tf"
      ]
    },
    {
      "cell_type": "code",
      "source": [
        "tensor_zero_d = tf.constant(4)\n",
        "print(tensor_zero_d)"
      ],
      "metadata": {
        "colab": {
          "base_uri": "https://localhost:8080/"
        },
        "id": "bGeEqRO0cbF0",
        "outputId": "4c3c5404-b404-4d07-b1f7-0dc1cd82871c"
      },
      "execution_count": 2,
      "outputs": [
        {
          "output_type": "stream",
          "name": "stdout",
          "text": [
            "tf.Tensor(4, shape=(), dtype=int32)\n"
          ]
        }
      ]
    },
    {
      "cell_type": "code",
      "source": [
        "tensor_one_d = tf.constant([1, -2, 3])\n",
        "\n",
        "tensor_two_d = tf.constant(\n",
        "    [\n",
        "        [1, 2, 3],\n",
        "        [2, -1, 0],\n",
        "        [4, 5, 6]\n",
        "    ]\n",
        ")"
      ],
      "metadata": {
        "id": "mJdV5I-If557"
      },
      "execution_count": 3,
      "outputs": []
    },
    {
      "cell_type": "code",
      "source": [
        "print(tensor_two_d)"
      ],
      "metadata": {
        "colab": {
          "base_uri": "https://localhost:8080/"
        },
        "id": "9b_tXjg7gHsb",
        "outputId": "5f37a0d3-0da0-4580-c74f-2c0657175df1"
      },
      "execution_count": 4,
      "outputs": [
        {
          "output_type": "stream",
          "name": "stdout",
          "text": [
            "tf.Tensor(\n",
            "[[ 1  2  3]\n",
            " [ 2 -1  0]\n",
            " [ 4  5  6]], shape=(3, 3), dtype=int32)\n"
          ]
        }
      ]
    },
    {
      "cell_type": "code",
      "source": [
        "tensor_three_d = tf.constant(\n",
        "    [\n",
        "      [\n",
        "        [1, 2, 3],\n",
        "        [2, -1, 0],\n",
        "        [4, 5, 6]\n",
        "      ],\n",
        "\n",
        "      [\n",
        "        [1, 2, 3],\n",
        "        [2, -1, 0],\n",
        "        [4, 5, 6]\n",
        "      ],\n",
        "      [\n",
        "        [1, 2, 3],\n",
        "        [2, -1, 0],\n",
        "        [4, 5, 6]\n",
        "      ],\n",
        "      [\n",
        "        [1, 2, 3],\n",
        "        [2, -1, 0],\n",
        "        [4, 5, 6]\n",
        "      ]\n",
        "    ]\n",
        ")"
      ],
      "metadata": {
        "id": "SGgRg4kyg8RY"
      },
      "execution_count": 5,
      "outputs": []
    },
    {
      "cell_type": "code",
      "source": [
        "print(tensor_three_d)"
      ],
      "metadata": {
        "colab": {
          "base_uri": "https://localhost:8080/"
        },
        "id": "oOV3G2sYhQdW",
        "outputId": "572b1476-ca32-4232-c646-83dbfca560ab"
      },
      "execution_count": 6,
      "outputs": [
        {
          "output_type": "stream",
          "name": "stdout",
          "text": [
            "tf.Tensor(\n",
            "[[[ 1  2  3]\n",
            "  [ 2 -1  0]\n",
            "  [ 4  5  6]]\n",
            "\n",
            " [[ 1  2  3]\n",
            "  [ 2 -1  0]\n",
            "  [ 4  5  6]]\n",
            "\n",
            " [[ 1  2  3]\n",
            "  [ 2 -1  0]\n",
            "  [ 4  5  6]]\n",
            "\n",
            " [[ 1  2  3]\n",
            "  [ 2 -1  0]\n",
            "  [ 4  5  6]]], shape=(4, 3, 3), dtype=int32)\n"
          ]
        }
      ]
    },
    {
      "cell_type": "code",
      "source": [
        "print(tensor_three_d.shape)\n",
        "\n",
        "#to print the dimension\n",
        "print(tensor_three_d.ndim)"
      ],
      "metadata": {
        "colab": {
          "base_uri": "https://localhost:8080/"
        },
        "id": "HzXr6YsRhj3u",
        "outputId": "a7c4a4f9-d5af-4e44-c515-0cbf12bad327"
      },
      "execution_count": 7,
      "outputs": [
        {
          "output_type": "stream",
          "name": "stdout",
          "text": [
            "(4, 3, 3)\n",
            "3\n"
          ]
        }
      ]
    },
    {
      "cell_type": "markdown",
      "source": [
        "**How to convert numpy array to a tensor**"
      ],
      "metadata": {
        "id": "MyaeO7rX-z_G"
      }
    },
    {
      "cell_type": "code",
      "source": [
        "import numpy as np"
      ],
      "metadata": {
        "id": "i7qu7-vH-73h"
      },
      "execution_count": 8,
      "outputs": []
    },
    {
      "cell_type": "code",
      "source": [
        "np_array = np.array([1, 2, 4])\n",
        "print(np_array)"
      ],
      "metadata": {
        "colab": {
          "base_uri": "https://localhost:8080/"
        },
        "id": "AK5QBBRGH7mW",
        "outputId": "ac597ed9-3611-4a27-971e-bf43387d598a"
      },
      "execution_count": 9,
      "outputs": [
        {
          "output_type": "stream",
          "name": "stdout",
          "text": [
            "[1 2 4]\n"
          ]
        }
      ]
    },
    {
      "cell_type": "code",
      "source": [
        "converted_tensor = tf.convert_to_tensor(np_array)\n",
        "print(converted_tensor)"
      ],
      "metadata": {
        "colab": {
          "base_uri": "https://localhost:8080/"
        },
        "id": "rWa6lQhaIDbI",
        "outputId": "4070dccf-f911-4383-8ecc-8742423b1041"
      },
      "execution_count": 10,
      "outputs": [
        {
          "output_type": "stream",
          "name": "stdout",
          "text": [
            "tf.Tensor([1 2 4], shape=(3,), dtype=int64)\n"
          ]
        }
      ]
    },
    {
      "cell_type": "markdown",
      "source": [
        "**Identity Tensor**"
      ],
      "metadata": {
        "id": "fpRqJLNFIi0m"
      }
    },
    {
      "cell_type": "code",
      "source": [
        "eye_tensor = tf.eye(\n",
        "    num_rows = 4,\n",
        "    num_columns=None,\n",
        "    batch_shape=None, # here if we give the batch size 3 , we will get 3, 4x4 Matrix\n",
        "    dtype=tf.dtypes.float32,\n",
        "    name=None\n",
        "    )\n",
        "print(eye_tensor)\n"
      ],
      "metadata": {
        "colab": {
          "base_uri": "https://localhost:8080/"
        },
        "id": "IR0QtgLWIm9x",
        "outputId": "95548862-66eb-492d-8cbd-b2198d31ed6c"
      },
      "execution_count": 11,
      "outputs": [
        {
          "output_type": "stream",
          "name": "stdout",
          "text": [
            "tf.Tensor(\n",
            "[[1. 0. 0. 0.]\n",
            " [0. 1. 0. 0.]\n",
            " [0. 0. 1. 0.]\n",
            " [0. 0. 0. 1.]], shape=(4, 4), dtype=float32)\n"
          ]
        }
      ]
    },
    {
      "cell_type": "code",
      "source": [
        "eye_tensor = tf.eye(\n",
        "    num_rows = 4,\n",
        "    num_columns=None,\n",
        "    batch_shape=[2,4], # here if we give the batch size 3 , we will get 3, 4x4 Matrix\n",
        "    dtype=tf.dtypes.float32,\n",
        "    name=None\n",
        "    )\n",
        "print(eye_tensor)"
      ],
      "metadata": {
        "colab": {
          "base_uri": "https://localhost:8080/"
        },
        "id": "5NZGICCpJ2Kd",
        "outputId": "9668b4c5-2373-4f8e-fdde-418d32760229"
      },
      "execution_count": 12,
      "outputs": [
        {
          "output_type": "stream",
          "name": "stdout",
          "text": [
            "tf.Tensor(\n",
            "[[[[1. 0. 0. 0.]\n",
            "   [0. 1. 0. 0.]\n",
            "   [0. 0. 1. 0.]\n",
            "   [0. 0. 0. 1.]]\n",
            "\n",
            "  [[1. 0. 0. 0.]\n",
            "   [0. 1. 0. 0.]\n",
            "   [0. 0. 1. 0.]\n",
            "   [0. 0. 0. 1.]]\n",
            "\n",
            "  [[1. 0. 0. 0.]\n",
            "   [0. 1. 0. 0.]\n",
            "   [0. 0. 1. 0.]\n",
            "   [0. 0. 0. 1.]]\n",
            "\n",
            "  [[1. 0. 0. 0.]\n",
            "   [0. 1. 0. 0.]\n",
            "   [0. 0. 1. 0.]\n",
            "   [0. 0. 0. 1.]]]\n",
            "\n",
            "\n",
            " [[[1. 0. 0. 0.]\n",
            "   [0. 1. 0. 0.]\n",
            "   [0. 0. 1. 0.]\n",
            "   [0. 0. 0. 1.]]\n",
            "\n",
            "  [[1. 0. 0. 0.]\n",
            "   [0. 1. 0. 0.]\n",
            "   [0. 0. 1. 0.]\n",
            "   [0. 0. 0. 1.]]\n",
            "\n",
            "  [[1. 0. 0. 0.]\n",
            "   [0. 1. 0. 0.]\n",
            "   [0. 0. 1. 0.]\n",
            "   [0. 0. 0. 1.]]\n",
            "\n",
            "  [[1. 0. 0. 0.]\n",
            "   [0. 1. 0. 0.]\n",
            "   [0. 0. 1. 0.]\n",
            "   [0. 0. 0. 1.]]]], shape=(2, 4, 4, 4), dtype=float32)\n"
          ]
        }
      ]
    },
    {
      "cell_type": "markdown",
      "source": [
        "**2 ta -> (4 ta -> 4x4)**"
      ],
      "metadata": {
        "id": "y-wcismgKRf-"
      }
    },
    {
      "cell_type": "markdown",
      "source": [
        "**Fill tensor**"
      ],
      "metadata": {
        "id": "Y4T1-TyuLF6P"
      }
    },
    {
      "cell_type": "code",
      "source": [
        "fill_tensor = tf.fill([2, 2 ,3], 1, name=None, layout=None)"
      ],
      "metadata": {
        "id": "kPLz5LQ8LKQ-"
      },
      "execution_count": 13,
      "outputs": []
    },
    {
      "cell_type": "code",
      "source": [
        "print(fill_tensor)"
      ],
      "metadata": {
        "colab": {
          "base_uri": "https://localhost:8080/"
        },
        "id": "69tHbJPRkOfM",
        "outputId": "c8bb7d72-38a9-4c1d-dc61-bd78232b2bff"
      },
      "execution_count": 14,
      "outputs": [
        {
          "output_type": "stream",
          "name": "stdout",
          "text": [
            "tf.Tensor(\n",
            "[[[1 1 1]\n",
            "  [1 1 1]]\n",
            "\n",
            " [[1 1 1]\n",
            "  [1 1 1]]], shape=(2, 2, 3), dtype=int32)\n"
          ]
        }
      ]
    },
    {
      "cell_type": "code",
      "source": [
        "zero_tensor = tf.zeros(\n",
        "    [3,2],\n",
        "    dtype = tf.dtypes.float32,\n",
        "    name = None\n",
        ")\n",
        "\n",
        "print(zero_tensor)"
      ],
      "metadata": {
        "colab": {
          "base_uri": "https://localhost:8080/"
        },
        "id": "H1_UDfdLliJv",
        "outputId": "448149bd-137c-4662-8e79-b3c239a7e51c"
      },
      "execution_count": 15,
      "outputs": [
        {
          "output_type": "stream",
          "name": "stdout",
          "text": [
            "tf.Tensor(\n",
            "[[0. 0.]\n",
            " [0. 0.]\n",
            " [0. 0.]], shape=(3, 2), dtype=float32)\n"
          ]
        }
      ]
    }
  ]
}