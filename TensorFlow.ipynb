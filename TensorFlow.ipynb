{
  "nbformat": 4,
  "nbformat_minor": 0,
  "metadata": {
    "colab": {
      "provenance": [],
      "authorship_tag": "ABX9TyNxffvIipDrb5tmO5li+wjn",
      "include_colab_link": true
    },
    "kernelspec": {
      "name": "python3",
      "display_name": "Python 3"
    },
    "language_info": {
      "name": "python"
    }
  },
  "cells": [
    {
      "cell_type": "markdown",
      "metadata": {
        "id": "view-in-github",
        "colab_type": "text"
      },
      "source": [
        "<a href=\"https://colab.research.google.com/github/AhmedRafid023/deeplearning-with-tensorflow/blob/main/TensorFlow.ipynb\" target=\"_parent\"><img src=\"https://colab.research.google.com/assets/colab-badge.svg\" alt=\"Open In Colab\"/></a>"
      ]
    },
    {
      "cell_type": "code",
      "execution_count": 5,
      "metadata": {
        "id": "nduiNlKncKoz"
      },
      "outputs": [],
      "source": [
        "import tensorflow as tf"
      ]
    },
    {
      "cell_type": "code",
      "source": [
        "tensor_zero_d = tf.constant(4)\n",
        "print(tensor_zero_d)"
      ],
      "metadata": {
        "colab": {
          "base_uri": "https://localhost:8080/"
        },
        "id": "bGeEqRO0cbF0",
        "outputId": "8f26e814-8b7e-4113-9dc7-7a6ded25c6a3"
      },
      "execution_count": 6,
      "outputs": [
        {
          "output_type": "stream",
          "name": "stdout",
          "text": [
            "tf.Tensor(4, shape=(), dtype=int32)\n"
          ]
        }
      ]
    },
    {
      "cell_type": "code",
      "source": [
        "tensor_one_d = tf.constant([1, -2, 3])\n",
        "\n",
        "tensor_two_d = tf.constant(\n",
        "    [\n",
        "        [1, 2, 3],\n",
        "        [2, -1, 0],\n",
        "        [4, 5, 6]\n",
        "    ]\n",
        ")"
      ],
      "metadata": {
        "id": "mJdV5I-If557"
      },
      "execution_count": 7,
      "outputs": []
    },
    {
      "cell_type": "code",
      "source": [
        "print(tensor_two_d)"
      ],
      "metadata": {
        "colab": {
          "base_uri": "https://localhost:8080/"
        },
        "id": "9b_tXjg7gHsb",
        "outputId": "3eae33b1-7d2e-4844-ad4d-7f217e546540"
      },
      "execution_count": 8,
      "outputs": [
        {
          "output_type": "stream",
          "name": "stdout",
          "text": [
            "tf.Tensor(\n",
            "[[ 1  2  3]\n",
            " [ 2 -1  0]\n",
            " [ 4  5  6]], shape=(3, 3), dtype=int32)\n"
          ]
        }
      ]
    },
    {
      "cell_type": "code",
      "source": [
        "tensor_three_d = tf.constant(\n",
        "    [\n",
        "      [\n",
        "        [1, 2, 3],\n",
        "        [2, -1, 0],\n",
        "        [4, 5, 6]\n",
        "      ],\n",
        "\n",
        "      [\n",
        "        [1, 2, 3],\n",
        "        [2, -1, 0],\n",
        "        [4, 5, 6]\n",
        "      ],\n",
        "      [\n",
        "        [1, 2, 3],\n",
        "        [2, -1, 0],\n",
        "        [4, 5, 6]\n",
        "      ],\n",
        "      [\n",
        "        [1, 2, 3],\n",
        "        [2, -1, 0],\n",
        "        [4, 5, 6]\n",
        "      ]\n",
        "    ]\n",
        ")"
      ],
      "metadata": {
        "id": "SGgRg4kyg8RY"
      },
      "execution_count": 9,
      "outputs": []
    },
    {
      "cell_type": "code",
      "source": [
        "print(tensor_three_d)"
      ],
      "metadata": {
        "colab": {
          "base_uri": "https://localhost:8080/"
        },
        "id": "oOV3G2sYhQdW",
        "outputId": "8d6663b4-0b96-4f16-b59a-a378c4052fc7"
      },
      "execution_count": 10,
      "outputs": [
        {
          "output_type": "stream",
          "name": "stdout",
          "text": [
            "tf.Tensor(\n",
            "[[[ 1  2  3]\n",
            "  [ 2 -1  0]\n",
            "  [ 4  5  6]]\n",
            "\n",
            " [[ 1  2  3]\n",
            "  [ 2 -1  0]\n",
            "  [ 4  5  6]]\n",
            "\n",
            " [[ 1  2  3]\n",
            "  [ 2 -1  0]\n",
            "  [ 4  5  6]]\n",
            "\n",
            " [[ 1  2  3]\n",
            "  [ 2 -1  0]\n",
            "  [ 4  5  6]]], shape=(4, 3, 3), dtype=int32)\n"
          ]
        }
      ]
    },
    {
      "cell_type": "code",
      "source": [
        "print(tensor_three_d.shape)\n",
        "\n",
        "#to print the dimension\n",
        "print(tensor_three_d.ndim)"
      ],
      "metadata": {
        "colab": {
          "base_uri": "https://localhost:8080/"
        },
        "id": "HzXr6YsRhj3u",
        "outputId": "310b5453-9026-4d94-be07-9c66e3931493"
      },
      "execution_count": 11,
      "outputs": [
        {
          "output_type": "stream",
          "name": "stdout",
          "text": [
            "(4, 3, 3)\n",
            "3\n"
          ]
        }
      ]
    },
    {
      "cell_type": "markdown",
      "source": [
        "**How to convert numpy array to a tensor**"
      ],
      "metadata": {
        "id": "MyaeO7rX-z_G"
      }
    },
    {
      "cell_type": "code",
      "source": [
        "import numpy as np"
      ],
      "metadata": {
        "id": "i7qu7-vH-73h"
      },
      "execution_count": 12,
      "outputs": []
    },
    {
      "cell_type": "code",
      "source": [
        "np_array = np.array([1, 2, 4])\n",
        "print(np_array)"
      ],
      "metadata": {
        "colab": {
          "base_uri": "https://localhost:8080/"
        },
        "id": "AK5QBBRGH7mW",
        "outputId": "8fb1be34-7e8e-48d7-f1fd-3d05626f5ca3"
      },
      "execution_count": 13,
      "outputs": [
        {
          "output_type": "stream",
          "name": "stdout",
          "text": [
            "[1 2 4]\n"
          ]
        }
      ]
    },
    {
      "cell_type": "code",
      "source": [
        "converted_tensor = tf.convert_to_tensor(np_array)\n",
        "print(converted_tensor)"
      ],
      "metadata": {
        "colab": {
          "base_uri": "https://localhost:8080/"
        },
        "id": "rWa6lQhaIDbI",
        "outputId": "7e3e2729-6435-43d7-b602-fcc23cf81303"
      },
      "execution_count": 16,
      "outputs": [
        {
          "output_type": "stream",
          "name": "stdout",
          "text": [
            "tf.Tensor([1 2 4], shape=(3,), dtype=int64)\n"
          ]
        }
      ]
    },
    {
      "cell_type": "markdown",
      "source": [
        "**Identity Tensor**"
      ],
      "metadata": {
        "id": "fpRqJLNFIi0m"
      }
    },
    {
      "cell_type": "code",
      "source": [
        "eye_tensor = tf.eye(\n",
        "    num_rows = 4,\n",
        "    num_columns=None,\n",
        "    batch_shape=None, # here if we give the batch size 3 , we will get 3, 4x4 Matrix\n",
        "    dtype=tf.dtypes.float32,\n",
        "    name=None\n",
        "    )\n",
        "print(eye_tensor)\n"
      ],
      "metadata": {
        "colab": {
          "base_uri": "https://localhost:8080/"
        },
        "id": "IR0QtgLWIm9x",
        "outputId": "9cff0241-6a00-440b-d019-f9ea6b5fe165"
      },
      "execution_count": 20,
      "outputs": [
        {
          "output_type": "stream",
          "name": "stdout",
          "text": [
            "tf.Tensor(\n",
            "[[1. 0. 0. 0.]\n",
            " [0. 1. 0. 0.]\n",
            " [0. 0. 1. 0.]\n",
            " [0. 0. 0. 1.]], shape=(4, 4), dtype=float32)\n"
          ]
        }
      ]
    },
    {
      "cell_type": "code",
      "source": [
        "eye_tensor = tf.eye(\n",
        "    num_rows = 4,\n",
        "    num_columns=None,\n",
        "    batch_shape=[2,4], # here if we give the batch size 3 , we will get 3, 4x4 Matrix\n",
        "    dtype=tf.dtypes.float32,\n",
        "    name=None\n",
        "    )\n",
        "print(eye_tensor)"
      ],
      "metadata": {
        "colab": {
          "base_uri": "https://localhost:8080/"
        },
        "id": "5NZGICCpJ2Kd",
        "outputId": "3e202086-a619-4c66-a264-a54baec74a10"
      },
      "execution_count": 25,
      "outputs": [
        {
          "output_type": "stream",
          "name": "stdout",
          "text": [
            "tf.Tensor(\n",
            "[[[[1. 0. 0. 0.]\n",
            "   [0. 1. 0. 0.]\n",
            "   [0. 0. 1. 0.]\n",
            "   [0. 0. 0. 1.]]\n",
            "\n",
            "  [[1. 0. 0. 0.]\n",
            "   [0. 1. 0. 0.]\n",
            "   [0. 0. 1. 0.]\n",
            "   [0. 0. 0. 1.]]\n",
            "\n",
            "  [[1. 0. 0. 0.]\n",
            "   [0. 1. 0. 0.]\n",
            "   [0. 0. 1. 0.]\n",
            "   [0. 0. 0. 1.]]\n",
            "\n",
            "  [[1. 0. 0. 0.]\n",
            "   [0. 1. 0. 0.]\n",
            "   [0. 0. 1. 0.]\n",
            "   [0. 0. 0. 1.]]]\n",
            "\n",
            "\n",
            " [[[1. 0. 0. 0.]\n",
            "   [0. 1. 0. 0.]\n",
            "   [0. 0. 1. 0.]\n",
            "   [0. 0. 0. 1.]]\n",
            "\n",
            "  [[1. 0. 0. 0.]\n",
            "   [0. 1. 0. 0.]\n",
            "   [0. 0. 1. 0.]\n",
            "   [0. 0. 0. 1.]]\n",
            "\n",
            "  [[1. 0. 0. 0.]\n",
            "   [0. 1. 0. 0.]\n",
            "   [0. 0. 1. 0.]\n",
            "   [0. 0. 0. 1.]]\n",
            "\n",
            "  [[1. 0. 0. 0.]\n",
            "   [0. 1. 0. 0.]\n",
            "   [0. 0. 1. 0.]\n",
            "   [0. 0. 0. 1.]]]], shape=(2, 4, 4, 4), dtype=float32)\n"
          ]
        }
      ]
    },
    {
      "cell_type": "markdown",
      "source": [
        "**2 ta -> (4 ta -> 4x4)**"
      ],
      "metadata": {
        "id": "y-wcismgKRf-"
      }
    },
    {
      "cell_type": "markdown",
      "source": [
        "**Fill tensor**"
      ],
      "metadata": {
        "id": "Y4T1-TyuLF6P"
      }
    },
    {
      "cell_type": "code",
      "source": [],
      "metadata": {
        "id": "kPLz5LQ8LKQ-"
      },
      "execution_count": null,
      "outputs": []
    }
  ]
}