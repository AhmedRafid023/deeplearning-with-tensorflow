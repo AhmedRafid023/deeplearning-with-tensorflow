{
  "nbformat": 4,
  "nbformat_minor": 0,
  "metadata": {
    "colab": {
      "provenance": [],
      "authorship_tag": "ABX9TyOvoN1Wk+lBGO0tqalJcfuR",
      "include_colab_link": true
    },
    "kernelspec": {
      "name": "python3",
      "display_name": "Python 3"
    },
    "language_info": {
      "name": "python"
    }
  },
  "cells": [
    {
      "cell_type": "markdown",
      "metadata": {
        "id": "view-in-github",
        "colab_type": "text"
      },
      "source": [
        "<a href=\"https://colab.research.google.com/github/AhmedRafid023/deeplearning-with-tensorflow/blob/main/TensorFlow.ipynb\" target=\"_parent\"><img src=\"https://colab.research.google.com/assets/colab-badge.svg\" alt=\"Open In Colab\"/></a>"
      ]
    },
    {
      "cell_type": "code",
      "execution_count": null,
      "metadata": {
        "id": "nduiNlKncKoz"
      },
      "outputs": [],
      "source": [
        "import tensorflow as tf"
      ]
    },
    {
      "cell_type": "code",
      "source": [
        "tensor_zero_d = tf.constant(4)\n",
        "print(tensor_zero_d)"
      ],
      "metadata": {
        "colab": {
          "base_uri": "https://localhost:8080/"
        },
        "id": "bGeEqRO0cbF0",
        "outputId": "cd87fa56-ac71-41dd-f8bf-74f935228ecc"
      },
      "execution_count": null,
      "outputs": [
        {
          "output_type": "stream",
          "name": "stdout",
          "text": [
            "tf.Tensor(4, shape=(), dtype=int32)\n"
          ]
        }
      ]
    },
    {
      "cell_type": "code",
      "source": [
        "tensor_one_d = tf.constant([1, -2, 3])\n",
        "\n",
        "tensor_two_d = tf.constant(\n",
        "    [\n",
        "        [1, 2, 3],\n",
        "        [2, -1, 0],\n",
        "        [4, 5, 6]\n",
        "    ]\n",
        ")"
      ],
      "metadata": {
        "id": "mJdV5I-If557"
      },
      "execution_count": null,
      "outputs": []
    },
    {
      "cell_type": "code",
      "source": [
        "print(tensor_two_d)"
      ],
      "metadata": {
        "colab": {
          "base_uri": "https://localhost:8080/"
        },
        "id": "9b_tXjg7gHsb",
        "outputId": "d3b5620e-3854-41ff-e8d7-de419eef8a83"
      },
      "execution_count": null,
      "outputs": [
        {
          "output_type": "stream",
          "name": "stdout",
          "text": [
            "tf.Tensor(\n",
            "[[ 1  2  3]\n",
            " [ 2 -1  0]\n",
            " [ 4  5  6]], shape=(3, 3), dtype=int32)\n"
          ]
        }
      ]
    },
    {
      "cell_type": "code",
      "source": [
        "tensor_three_d = tf.constant(\n",
        "    [\n",
        "      [\n",
        "        [1, 2, 3],\n",
        "        [2, -1, 0],\n",
        "        [4, 5, 6]\n",
        "      ],\n",
        "\n",
        "      [\n",
        "        [1, 2, 3],\n",
        "        [2, -1, 0],\n",
        "        [4, 5, 6]\n",
        "      ],\n",
        "      [\n",
        "        [1, 2, 3],\n",
        "        [2, -1, 0],\n",
        "        [4, 5, 6]\n",
        "      ],\n",
        "      [\n",
        "        [1, 2, 3],\n",
        "        [2, -1, 0],\n",
        "        [4, 5, 6]\n",
        "      ]\n",
        "    ]\n",
        ")"
      ],
      "metadata": {
        "id": "SGgRg4kyg8RY"
      },
      "execution_count": null,
      "outputs": []
    },
    {
      "cell_type": "code",
      "source": [
        "print(tensor_three_d)"
      ],
      "metadata": {
        "colab": {
          "base_uri": "https://localhost:8080/"
        },
        "id": "oOV3G2sYhQdW",
        "outputId": "f871c1e4-e2d9-49c2-86f7-075d60073ced"
      },
      "execution_count": null,
      "outputs": [
        {
          "output_type": "stream",
          "name": "stdout",
          "text": [
            "tf.Tensor(\n",
            "[[[ 1  2  3]\n",
            "  [ 2 -1  0]\n",
            "  [ 4  5  6]]\n",
            "\n",
            " [[ 1  2  3]\n",
            "  [ 2 -1  0]\n",
            "  [ 4  5  6]]\n",
            "\n",
            " [[ 1  2  3]\n",
            "  [ 2 -1  0]\n",
            "  [ 4  5  6]]\n",
            "\n",
            " [[ 1  2  3]\n",
            "  [ 2 -1  0]\n",
            "  [ 4  5  6]]], shape=(4, 3, 3), dtype=int32)\n"
          ]
        }
      ]
    },
    {
      "cell_type": "code",
      "source": [
        "print(tensor_three_d.shape)\n",
        "\n",
        "#to print the dimension\n",
        "print(tensor_three_d.ndim)"
      ],
      "metadata": {
        "colab": {
          "base_uri": "https://localhost:8080/"
        },
        "id": "HzXr6YsRhj3u",
        "outputId": "dffeccf3-0ff2-4d8d-8b99-a88544fcd554"
      },
      "execution_count": null,
      "outputs": [
        {
          "output_type": "stream",
          "name": "stdout",
          "text": [
            "(4, 3, 3)\n",
            "3\n"
          ]
        }
      ]
    },
    {
      "cell_type": "markdown",
      "source": [
        "**How to convert numpy array to a tensor**"
      ],
      "metadata": {
        "id": "MyaeO7rX-z_G"
      }
    },
    {
      "cell_type": "code",
      "source": [
        "import numpy as np"
      ],
      "metadata": {
        "id": "i7qu7-vH-73h"
      },
      "execution_count": null,
      "outputs": []
    },
    {
      "cell_type": "code",
      "source": [
        "np_array = np.array([1, 2, 4])\n",
        "print(np_array)"
      ],
      "metadata": {
        "colab": {
          "base_uri": "https://localhost:8080/"
        },
        "id": "AK5QBBRGH7mW",
        "outputId": "bd39468a-f66b-455f-a4f9-38ebbc05bc1c"
      },
      "execution_count": null,
      "outputs": [
        {
          "output_type": "stream",
          "name": "stdout",
          "text": [
            "[1 2 4]\n"
          ]
        }
      ]
    },
    {
      "cell_type": "code",
      "source": [
        "converted_tensor = tf.convert_to_tensor(np_array)\n",
        "print(converted_tensor)"
      ],
      "metadata": {
        "colab": {
          "base_uri": "https://localhost:8080/"
        },
        "id": "rWa6lQhaIDbI",
        "outputId": "a5818562-1701-4efe-d92c-ce523675085a"
      },
      "execution_count": null,
      "outputs": [
        {
          "output_type": "stream",
          "name": "stdout",
          "text": [
            "tf.Tensor([1 2 4], shape=(3,), dtype=int64)\n"
          ]
        }
      ]
    },
    {
      "cell_type": "markdown",
      "source": [
        "**Identity Tensor**"
      ],
      "metadata": {
        "id": "fpRqJLNFIi0m"
      }
    },
    {
      "cell_type": "code",
      "source": [
        "eye_tensor = tf.eye(\n",
        "    num_rows = 4,\n",
        "    num_columns=None,\n",
        "    batch_shape=None, # here if we give the batch size 3 , we will get 3, 4x4 Matrix\n",
        "    dtype=tf.dtypes.float32,\n",
        "    name=None\n",
        "    )\n",
        "print(eye_tensor)\n"
      ],
      "metadata": {
        "colab": {
          "base_uri": "https://localhost:8080/"
        },
        "id": "IR0QtgLWIm9x",
        "outputId": "0a452103-4e3d-4727-a7ba-e5a79a915779"
      },
      "execution_count": null,
      "outputs": [
        {
          "output_type": "stream",
          "name": "stdout",
          "text": [
            "tf.Tensor(\n",
            "[[1. 0. 0. 0.]\n",
            " [0. 1. 0. 0.]\n",
            " [0. 0. 1. 0.]\n",
            " [0. 0. 0. 1.]], shape=(4, 4), dtype=float32)\n"
          ]
        }
      ]
    },
    {
      "cell_type": "code",
      "source": [
        "eye_tensor = tf.eye(\n",
        "    num_rows = 4,\n",
        "    num_columns=None,\n",
        "    batch_shape=[2,4], # here if we give the batch size 3 , we will get 3, 4x4 Matrix\n",
        "    dtype=tf.dtypes.float32,\n",
        "    name=None\n",
        "    )\n",
        "print(eye_tensor)"
      ],
      "metadata": {
        "colab": {
          "base_uri": "https://localhost:8080/"
        },
        "id": "5NZGICCpJ2Kd",
        "outputId": "45ad3b68-8eac-4877-96ce-3409b989a10c"
      },
      "execution_count": null,
      "outputs": [
        {
          "output_type": "stream",
          "name": "stdout",
          "text": [
            "tf.Tensor(\n",
            "[[[[1. 0. 0. 0.]\n",
            "   [0. 1. 0. 0.]\n",
            "   [0. 0. 1. 0.]\n",
            "   [0. 0. 0. 1.]]\n",
            "\n",
            "  [[1. 0. 0. 0.]\n",
            "   [0. 1. 0. 0.]\n",
            "   [0. 0. 1. 0.]\n",
            "   [0. 0. 0. 1.]]\n",
            "\n",
            "  [[1. 0. 0. 0.]\n",
            "   [0. 1. 0. 0.]\n",
            "   [0. 0. 1. 0.]\n",
            "   [0. 0. 0. 1.]]\n",
            "\n",
            "  [[1. 0. 0. 0.]\n",
            "   [0. 1. 0. 0.]\n",
            "   [0. 0. 1. 0.]\n",
            "   [0. 0. 0. 1.]]]\n",
            "\n",
            "\n",
            " [[[1. 0. 0. 0.]\n",
            "   [0. 1. 0. 0.]\n",
            "   [0. 0. 1. 0.]\n",
            "   [0. 0. 0. 1.]]\n",
            "\n",
            "  [[1. 0. 0. 0.]\n",
            "   [0. 1. 0. 0.]\n",
            "   [0. 0. 1. 0.]\n",
            "   [0. 0. 0. 1.]]\n",
            "\n",
            "  [[1. 0. 0. 0.]\n",
            "   [0. 1. 0. 0.]\n",
            "   [0. 0. 1. 0.]\n",
            "   [0. 0. 0. 1.]]\n",
            "\n",
            "  [[1. 0. 0. 0.]\n",
            "   [0. 1. 0. 0.]\n",
            "   [0. 0. 1. 0.]\n",
            "   [0. 0. 0. 1.]]]], shape=(2, 4, 4, 4), dtype=float32)\n"
          ]
        }
      ]
    },
    {
      "cell_type": "markdown",
      "source": [
        "**2 ta -> (4 ta -> 4x4)**"
      ],
      "metadata": {
        "id": "y-wcismgKRf-"
      }
    },
    {
      "cell_type": "markdown",
      "source": [
        "**Fill tensor**"
      ],
      "metadata": {
        "id": "Y4T1-TyuLF6P"
      }
    },
    {
      "cell_type": "code",
      "source": [
        "fill_tensor = tf.fill([2, 2 ,3], 1, name=None, layout=None)"
      ],
      "metadata": {
        "id": "kPLz5LQ8LKQ-"
      },
      "execution_count": null,
      "outputs": []
    },
    {
      "cell_type": "code",
      "source": [
        "print(fill_tensor)"
      ],
      "metadata": {
        "colab": {
          "base_uri": "https://localhost:8080/"
        },
        "id": "69tHbJPRkOfM",
        "outputId": "e3792e76-f97b-4b15-f1db-31010e6f69b7"
      },
      "execution_count": null,
      "outputs": [
        {
          "output_type": "stream",
          "name": "stdout",
          "text": [
            "tf.Tensor(\n",
            "[[[1 1 1]\n",
            "  [1 1 1]]\n",
            "\n",
            " [[1 1 1]\n",
            "  [1 1 1]]], shape=(2, 2, 3), dtype=int32)\n"
          ]
        }
      ]
    },
    {
      "cell_type": "code",
      "source": [
        "zero_tensor = tf.zeros(\n",
        "    [3,2],\n",
        "    dtype = tf.dtypes.float32,\n",
        "    name = None\n",
        ")\n",
        "\n",
        "print(zero_tensor)"
      ],
      "metadata": {
        "colab": {
          "base_uri": "https://localhost:8080/"
        },
        "id": "H1_UDfdLliJv",
        "outputId": "165bab08-ec41-4c6d-e178-72562bd0486b"
      },
      "execution_count": null,
      "outputs": [
        {
          "output_type": "stream",
          "name": "stdout",
          "text": [
            "tf.Tensor(\n",
            "[[0. 0.]\n",
            " [0. 0.]\n",
            " [0. 0.]], shape=(3, 2), dtype=float32)\n"
          ]
        }
      ]
    },
    {
      "cell_type": "markdown",
      "source": [
        "**ONE TENSOR**"
      ],
      "metadata": {
        "id": "rjQvsPBQ_xcv"
      }
    },
    {
      "cell_type": "code",
      "source": [
        "one_tensor = tf.ones(\n",
        "    [3,2],\n",
        "    dtype = tf.dtypes.float32,\n",
        "    name = None\n",
        ")\n",
        "\n",
        "print(one_tensor)"
      ],
      "metadata": {
        "id": "9PqpG_sRizlJ",
        "colab": {
          "base_uri": "https://localhost:8080/"
        },
        "outputId": "ae36fca9-cc59-46d7-d563-956869cade1b"
      },
      "execution_count": null,
      "outputs": [
        {
          "output_type": "stream",
          "name": "stdout",
          "text": [
            "tf.Tensor(\n",
            "[[1. 1.]\n",
            " [1. 1.]\n",
            " [1. 1.]], shape=(3, 2), dtype=float32)\n"
          ]
        }
      ]
    },
    {
      "cell_type": "markdown",
      "source": [
        "Hello world"
      ],
      "metadata": {
        "id": "qLZ-BCCC0VY8"
      }
    }
  ]
}